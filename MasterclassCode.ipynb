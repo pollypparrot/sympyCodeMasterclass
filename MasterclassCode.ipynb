{
 "cells": [
  {
   "cell_type": "code",
   "execution_count": 10,
   "id": "ec0465d9",
   "metadata": {},
   "outputs": [],
   "source": [
    "# Holly Chandler\n",
    "# Masterclass Research Project\n",
    "# Code to support maths required in the X-Z laplacian for various functions\n",
    "\n",
    "#import all neccesary libraries and allow use of unicode symbols\n",
    "import sympy\n",
    "from sympy import symbols, expand, factor, latex\n",
    "from sympy import *\n",
    "init_printing(use_unicode=True)\n",
    "#import library allowing ext and latex to be on the same line:\n",
    "from IPython.display import display, Math"
   ]
  },
  {
   "cell_type": "code",
   "execution_count": 11,
   "id": "4a65abcc",
   "metadata": {},
   "outputs": [],
   "source": [
    "#set it so you can have pretty outputs for multiple different functions in one cell\n",
    "from IPython.core.interactiveshell import InteractiveShell\n",
    "InteractiveShell.ast_node_interactivity = 'all'"
   ]
  },
  {
   "cell_type": "code",
   "execution_count": 12,
   "id": "40a30320",
   "metadata": {},
   "outputs": [],
   "source": [
    "#initialise all the symbols used for each coordinate system\n",
    "alpha, gamma, beta, x, y, z, r, theta, phi, R, A, B, D, h, I, Bpol  = symbols('alpha gamma beta x y z r theta phi R A B D h_theta I B_pol')"
   ]
  },
  {
   "cell_type": "code",
   "execution_count": 13,
   "id": "42e22351",
   "metadata": {
    "scrolled": true
   },
   "outputs": [],
   "source": [
    "#order for all lists of components follows:\n",
    "\n",
    "#0 cartesian (xyz), \n",
    "#1 cyllindrical (r,theta,z), \n",
    "#2 spherical (r,theta,phi), \n",
    "#3 toroidal (r,theta,phi), \n",
    "#4 Clebsch Field Alligned Coordinates (x,y,z)\n",
    "\n",
    "#initialsise coordinate system order:\n",
    "C = [\"cartesian (xyz)\",\"cyllindrical (r,theta,z)\",\"spherical (r,theta,phi)\",\"toroidal (r,theta,phi)\",\"Clebsch Field Alligned Coordinates (x,y,z)\" ]\n",
    "\n",
    "#Initialise all the known Jacobians\n",
    "J = [1, r, r**(2)*sin(theta),-r*(R+r*cos(theta)),h/Bpol]\n",
    "\n",
    "#initialise the main diagonal metric tensors in order of variables they relate to (below shows order)\n",
    "g = [[1,1,1],[1,1/(r**2),1],[1,1/(r**2),1],[1,1/(r**2),1/(R+r*cos(theta))**2],[(R*Bpol)**2, 1/(h)**2,I**2*(R*Bpol)**2+B**2/(R*Bpol)**2]]\n",
    "\n",
    "#all the coordinate system variables.\n",
    "coords = [[x,y,z],[r,theta,z],[r,theta,phi],[r,theta,phi],[x,y,z]]\n"
   ]
  },
  {
   "cell_type": "markdown",
   "id": "f1a4c13d",
   "metadata": {},
   "source": [
    "For loop which creates an output for all coordinate systems except for Clebsch which needs to be done seperately as below."
   ]
  },
  {
   "cell_type": "code",
   "execution_count": 14,
   "id": "8a5f98c7",
   "metadata": {},
   "outputs": [
    {
     "name": "stdout",
     "output_type": "stream",
     "text": [
      "Coordinate system choice is cartesian (xyz)\n"
     ]
    },
    {
     "data": {
      "text/latex": [
       "$\\displaystyle Jacobian = 1$"
      ],
      "text/plain": [
       "<IPython.core.display.Math object>"
      ]
     },
     "metadata": {},
     "output_type": "display_data"
    },
    {
     "data": {
      "text/latex": [
       "$\\displaystyle X-Coordinate = x$"
      ],
      "text/plain": [
       "<IPython.core.display.Math object>"
      ]
     },
     "metadata": {},
     "output_type": "display_data"
    },
    {
     "data": {
      "text/latex": [
       "$\\displaystyle Z-Coordinate = y$"
      ],
      "text/plain": [
       "<IPython.core.display.Math object>"
      ]
     },
     "metadata": {},
     "output_type": "display_data"
    },
    {
     "data": {
      "text/latex": [
       "$\\displaystyle f = \\sin{\\left(x \\right)} \\cos{\\left(y \\right)}$"
      ],
      "text/plain": [
       "<IPython.core.display.Math object>"
      ]
     },
     "metadata": {},
     "output_type": "display_data"
    },
    {
     "data": {
      "text/latex": [
       "$\\displaystyle b = - 2 A \\sin{\\left(x \\right)} \\cos{\\left(y \\right)} + B \\sin{\\left(x \\right)} \\cos{\\left(y \\right)}$"
      ],
      "text/plain": [
       "<IPython.core.display.Math object>"
      ]
     },
     "metadata": {},
     "output_type": "display_data"
    },
    {
     "name": "stdout",
     "output_type": "stream",
     "text": [
      "\n",
      "Coordinate system choice is cartesian (xyz)\n"
     ]
    },
    {
     "data": {
      "text/latex": [
       "$\\displaystyle Jacobian = 1$"
      ],
      "text/plain": [
       "<IPython.core.display.Math object>"
      ]
     },
     "metadata": {},
     "output_type": "display_data"
    },
    {
     "data": {
      "text/latex": [
       "$\\displaystyle X-Coordinate = x$"
      ],
      "text/plain": [
       "<IPython.core.display.Math object>"
      ]
     },
     "metadata": {},
     "output_type": "display_data"
    },
    {
     "data": {
      "text/latex": [
       "$\\displaystyle Z-Coordinate = z$"
      ],
      "text/plain": [
       "<IPython.core.display.Math object>"
      ]
     },
     "metadata": {},
     "output_type": "display_data"
    },
    {
     "data": {
      "text/latex": [
       "$\\displaystyle f = \\sin{\\left(x \\right)} \\cos{\\left(z \\right)}$"
      ],
      "text/plain": [
       "<IPython.core.display.Math object>"
      ]
     },
     "metadata": {},
     "output_type": "display_data"
    },
    {
     "data": {
      "text/latex": [
       "$\\displaystyle b = - 2 A \\sin{\\left(x \\right)} \\cos{\\left(z \\right)} + B \\sin{\\left(x \\right)} \\cos{\\left(z \\right)}$"
      ],
      "text/plain": [
       "<IPython.core.display.Math object>"
      ]
     },
     "metadata": {},
     "output_type": "display_data"
    },
    {
     "name": "stdout",
     "output_type": "stream",
     "text": [
      "\n",
      "Coordinate system choice is cartesian (xyz)\n"
     ]
    },
    {
     "data": {
      "text/latex": [
       "$\\displaystyle Jacobian = 1$"
      ],
      "text/plain": [
       "<IPython.core.display.Math object>"
      ]
     },
     "metadata": {},
     "output_type": "display_data"
    },
    {
     "data": {
      "text/latex": [
       "$\\displaystyle X-Coordinate = y$"
      ],
      "text/plain": [
       "<IPython.core.display.Math object>"
      ]
     },
     "metadata": {},
     "output_type": "display_data"
    },
    {
     "data": {
      "text/latex": [
       "$\\displaystyle Z-Coordinate = z$"
      ],
      "text/plain": [
       "<IPython.core.display.Math object>"
      ]
     },
     "metadata": {},
     "output_type": "display_data"
    },
    {
     "data": {
      "text/latex": [
       "$\\displaystyle f = \\sin{\\left(y \\right)} \\cos{\\left(z \\right)}$"
      ],
      "text/plain": [
       "<IPython.core.display.Math object>"
      ]
     },
     "metadata": {},
     "output_type": "display_data"
    },
    {
     "data": {
      "text/latex": [
       "$\\displaystyle b = - 2 A \\sin{\\left(y \\right)} \\cos{\\left(z \\right)} + B \\sin{\\left(y \\right)} \\cos{\\left(z \\right)}$"
      ],
      "text/plain": [
       "<IPython.core.display.Math object>"
      ]
     },
     "metadata": {},
     "output_type": "display_data"
    },
    {
     "name": "stdout",
     "output_type": "stream",
     "text": [
      "\n",
      "Coordinate system choice is cartesian (xyz)\n"
     ]
    },
    {
     "data": {
      "text/latex": [
       "$\\displaystyle Jacobian = 1$"
      ],
      "text/plain": [
       "<IPython.core.display.Math object>"
      ]
     },
     "metadata": {},
     "output_type": "display_data"
    },
    {
     "data": {
      "text/latex": [
       "$\\displaystyle X-Coordinate = y$"
      ],
      "text/plain": [
       "<IPython.core.display.Math object>"
      ]
     },
     "metadata": {},
     "output_type": "display_data"
    },
    {
     "data": {
      "text/latex": [
       "$\\displaystyle Z-Coordinate = x$"
      ],
      "text/plain": [
       "<IPython.core.display.Math object>"
      ]
     },
     "metadata": {},
     "output_type": "display_data"
    },
    {
     "data": {
      "text/latex": [
       "$\\displaystyle f = \\sin{\\left(y \\right)} \\cos{\\left(x \\right)}$"
      ],
      "text/plain": [
       "<IPython.core.display.Math object>"
      ]
     },
     "metadata": {},
     "output_type": "display_data"
    },
    {
     "data": {
      "text/latex": [
       "$\\displaystyle b = - 2 A \\sin{\\left(y \\right)} \\cos{\\left(x \\right)} + B \\sin{\\left(y \\right)} \\cos{\\left(x \\right)}$"
      ],
      "text/plain": [
       "<IPython.core.display.Math object>"
      ]
     },
     "metadata": {},
     "output_type": "display_data"
    },
    {
     "name": "stdout",
     "output_type": "stream",
     "text": [
      "\n",
      "Coordinate system choice is cartesian (xyz)\n"
     ]
    },
    {
     "data": {
      "text/latex": [
       "$\\displaystyle Jacobian = 1$"
      ],
      "text/plain": [
       "<IPython.core.display.Math object>"
      ]
     },
     "metadata": {},
     "output_type": "display_data"
    },
    {
     "data": {
      "text/latex": [
       "$\\displaystyle X-Coordinate = z$"
      ],
      "text/plain": [
       "<IPython.core.display.Math object>"
      ]
     },
     "metadata": {},
     "output_type": "display_data"
    },
    {
     "data": {
      "text/latex": [
       "$\\displaystyle Z-Coordinate = x$"
      ],
      "text/plain": [
       "<IPython.core.display.Math object>"
      ]
     },
     "metadata": {},
     "output_type": "display_data"
    },
    {
     "data": {
      "text/latex": [
       "$\\displaystyle f = \\sin{\\left(z \\right)} \\cos{\\left(x \\right)}$"
      ],
      "text/plain": [
       "<IPython.core.display.Math object>"
      ]
     },
     "metadata": {},
     "output_type": "display_data"
    },
    {
     "data": {
      "text/latex": [
       "$\\displaystyle b = - 2 A \\sin{\\left(z \\right)} \\cos{\\left(x \\right)} + B \\sin{\\left(z \\right)} \\cos{\\left(x \\right)}$"
      ],
      "text/plain": [
       "<IPython.core.display.Math object>"
      ]
     },
     "metadata": {},
     "output_type": "display_data"
    },
    {
     "name": "stdout",
     "output_type": "stream",
     "text": [
      "\n",
      "Coordinate system choice is cartesian (xyz)\n"
     ]
    },
    {
     "data": {
      "text/latex": [
       "$\\displaystyle Jacobian = 1$"
      ],
      "text/plain": [
       "<IPython.core.display.Math object>"
      ]
     },
     "metadata": {},
     "output_type": "display_data"
    },
    {
     "data": {
      "text/latex": [
       "$\\displaystyle X-Coordinate = z$"
      ],
      "text/plain": [
       "<IPython.core.display.Math object>"
      ]
     },
     "metadata": {},
     "output_type": "display_data"
    },
    {
     "data": {
      "text/latex": [
       "$\\displaystyle Z-Coordinate = y$"
      ],
      "text/plain": [
       "<IPython.core.display.Math object>"
      ]
     },
     "metadata": {},
     "output_type": "display_data"
    },
    {
     "data": {
      "text/latex": [
       "$\\displaystyle f = \\sin{\\left(z \\right)} \\cos{\\left(y \\right)}$"
      ],
      "text/plain": [
       "<IPython.core.display.Math object>"
      ]
     },
     "metadata": {},
     "output_type": "display_data"
    },
    {
     "data": {
      "text/latex": [
       "$\\displaystyle b = - 2 A \\sin{\\left(z \\right)} \\cos{\\left(y \\right)} + B \\sin{\\left(z \\right)} \\cos{\\left(y \\right)}$"
      ],
      "text/plain": [
       "<IPython.core.display.Math object>"
      ]
     },
     "metadata": {},
     "output_type": "display_data"
    },
    {
     "name": "stdout",
     "output_type": "stream",
     "text": [
      "\n",
      "Coordinate system choice is cyllindrical (r,theta,z)\n"
     ]
    },
    {
     "data": {
      "text/latex": [
       "$\\displaystyle Jacobian = r$"
      ],
      "text/plain": [
       "<IPython.core.display.Math object>"
      ]
     },
     "metadata": {},
     "output_type": "display_data"
    },
    {
     "data": {
      "text/latex": [
       "$\\displaystyle X-Coordinate = r$"
      ],
      "text/plain": [
       "<IPython.core.display.Math object>"
      ]
     },
     "metadata": {},
     "output_type": "display_data"
    },
    {
     "data": {
      "text/latex": [
       "$\\displaystyle Z-Coordinate = \\theta$"
      ],
      "text/plain": [
       "<IPython.core.display.Math object>"
      ]
     },
     "metadata": {},
     "output_type": "display_data"
    },
    {
     "data": {
      "text/latex": [
       "$\\displaystyle f = \\sin{\\left(r \\right)} \\cos{\\left(\\theta \\right)}$"
      ],
      "text/plain": [
       "<IPython.core.display.Math object>"
      ]
     },
     "metadata": {},
     "output_type": "display_data"
    },
    {
     "data": {
      "text/latex": [
       "$\\displaystyle b = \\frac{A \\left(- r \\sin{\\left(r \\right)} \\cos{\\left(\\theta \\right)} + \\cos{\\left(r \\right)} \\cos{\\left(\\theta \\right)} - \\frac{\\sin{\\left(r \\right)} \\cos{\\left(\\theta \\right)}}{r}\\right)}{r} + B \\sin{\\left(r \\right)} \\cos{\\left(\\theta \\right)}$"
      ],
      "text/plain": [
       "<IPython.core.display.Math object>"
      ]
     },
     "metadata": {},
     "output_type": "display_data"
    },
    {
     "name": "stdout",
     "output_type": "stream",
     "text": [
      "\n",
      "Coordinate system choice is cyllindrical (r,theta,z)\n"
     ]
    },
    {
     "data": {
      "text/latex": [
       "$\\displaystyle Jacobian = r$"
      ],
      "text/plain": [
       "<IPython.core.display.Math object>"
      ]
     },
     "metadata": {},
     "output_type": "display_data"
    },
    {
     "data": {
      "text/latex": [
       "$\\displaystyle X-Coordinate = r$"
      ],
      "text/plain": [
       "<IPython.core.display.Math object>"
      ]
     },
     "metadata": {},
     "output_type": "display_data"
    },
    {
     "data": {
      "text/latex": [
       "$\\displaystyle Z-Coordinate = z$"
      ],
      "text/plain": [
       "<IPython.core.display.Math object>"
      ]
     },
     "metadata": {},
     "output_type": "display_data"
    },
    {
     "data": {
      "text/latex": [
       "$\\displaystyle f = \\sin{\\left(r \\right)} \\cos{\\left(z \\right)}$"
      ],
      "text/plain": [
       "<IPython.core.display.Math object>"
      ]
     },
     "metadata": {},
     "output_type": "display_data"
    },
    {
     "data": {
      "text/latex": [
       "$\\displaystyle b = \\frac{A \\left(- 2 r \\sin{\\left(r \\right)} \\cos{\\left(z \\right)} + \\cos{\\left(r \\right)} \\cos{\\left(z \\right)}\\right)}{r} + B \\sin{\\left(r \\right)} \\cos{\\left(z \\right)}$"
      ],
      "text/plain": [
       "<IPython.core.display.Math object>"
      ]
     },
     "metadata": {},
     "output_type": "display_data"
    },
    {
     "name": "stdout",
     "output_type": "stream",
     "text": [
      "\n",
      "Coordinate system choice is cyllindrical (r,theta,z)\n"
     ]
    },
    {
     "data": {
      "text/latex": [
       "$\\displaystyle Jacobian = r$"
      ],
      "text/plain": [
       "<IPython.core.display.Math object>"
      ]
     },
     "metadata": {},
     "output_type": "display_data"
    },
    {
     "data": {
      "text/latex": [
       "$\\displaystyle X-Coordinate = \\theta$"
      ],
      "text/plain": [
       "<IPython.core.display.Math object>"
      ]
     },
     "metadata": {},
     "output_type": "display_data"
    },
    {
     "data": {
      "text/latex": [
       "$\\displaystyle Z-Coordinate = z$"
      ],
      "text/plain": [
       "<IPython.core.display.Math object>"
      ]
     },
     "metadata": {},
     "output_type": "display_data"
    },
    {
     "data": {
      "text/latex": [
       "$\\displaystyle f = \\sin{\\left(\\theta \\right)} \\cos{\\left(z \\right)}$"
      ],
      "text/plain": [
       "<IPython.core.display.Math object>"
      ]
     },
     "metadata": {},
     "output_type": "display_data"
    },
    {
     "data": {
      "text/latex": [
       "$\\displaystyle b = \\frac{A \\left(- r \\sin{\\left(\\theta \\right)} \\cos{\\left(z \\right)} - \\frac{\\sin{\\left(\\theta \\right)} \\cos{\\left(z \\right)}}{r}\\right)}{r} + B \\sin{\\left(\\theta \\right)} \\cos{\\left(z \\right)}$"
      ],
      "text/plain": [
       "<IPython.core.display.Math object>"
      ]
     },
     "metadata": {},
     "output_type": "display_data"
    },
    {
     "name": "stdout",
     "output_type": "stream",
     "text": [
      "\n",
      "Coordinate system choice is cyllindrical (r,theta,z)\n"
     ]
    },
    {
     "data": {
      "text/latex": [
       "$\\displaystyle Jacobian = r$"
      ],
      "text/plain": [
       "<IPython.core.display.Math object>"
      ]
     },
     "metadata": {},
     "output_type": "display_data"
    },
    {
     "data": {
      "text/latex": [
       "$\\displaystyle X-Coordinate = \\theta$"
      ],
      "text/plain": [
       "<IPython.core.display.Math object>"
      ]
     },
     "metadata": {},
     "output_type": "display_data"
    },
    {
     "data": {
      "text/latex": [
       "$\\displaystyle Z-Coordinate = r$"
      ],
      "text/plain": [
       "<IPython.core.display.Math object>"
      ]
     },
     "metadata": {},
     "output_type": "display_data"
    },
    {
     "data": {
      "text/latex": [
       "$\\displaystyle f = \\sin{\\left(\\theta \\right)} \\cos{\\left(r \\right)}$"
      ],
      "text/plain": [
       "<IPython.core.display.Math object>"
      ]
     },
     "metadata": {},
     "output_type": "display_data"
    },
    {
     "data": {
      "text/latex": [
       "$\\displaystyle b = \\frac{A \\left(- r \\sin{\\left(\\theta \\right)} \\cos{\\left(r \\right)} - \\sin{\\left(r \\right)} \\sin{\\left(\\theta \\right)} - \\frac{\\sin{\\left(\\theta \\right)} \\cos{\\left(r \\right)}}{r}\\right)}{r} + B \\sin{\\left(\\theta \\right)} \\cos{\\left(r \\right)}$"
      ],
      "text/plain": [
       "<IPython.core.display.Math object>"
      ]
     },
     "metadata": {},
     "output_type": "display_data"
    },
    {
     "name": "stdout",
     "output_type": "stream",
     "text": [
      "\n",
      "Coordinate system choice is cyllindrical (r,theta,z)\n"
     ]
    },
    {
     "data": {
      "text/latex": [
       "$\\displaystyle Jacobian = r$"
      ],
      "text/plain": [
       "<IPython.core.display.Math object>"
      ]
     },
     "metadata": {},
     "output_type": "display_data"
    },
    {
     "data": {
      "text/latex": [
       "$\\displaystyle X-Coordinate = z$"
      ],
      "text/plain": [
       "<IPython.core.display.Math object>"
      ]
     },
     "metadata": {},
     "output_type": "display_data"
    },
    {
     "data": {
      "text/latex": [
       "$\\displaystyle Z-Coordinate = r$"
      ],
      "text/plain": [
       "<IPython.core.display.Math object>"
      ]
     },
     "metadata": {},
     "output_type": "display_data"
    },
    {
     "data": {
      "text/latex": [
       "$\\displaystyle f = \\sin{\\left(z \\right)} \\cos{\\left(r \\right)}$"
      ],
      "text/plain": [
       "<IPython.core.display.Math object>"
      ]
     },
     "metadata": {},
     "output_type": "display_data"
    },
    {
     "data": {
      "text/latex": [
       "$\\displaystyle b = \\frac{A \\left(- 2 r \\sin{\\left(z \\right)} \\cos{\\left(r \\right)} - \\sin{\\left(r \\right)} \\sin{\\left(z \\right)}\\right)}{r} + B \\sin{\\left(z \\right)} \\cos{\\left(r \\right)}$"
      ],
      "text/plain": [
       "<IPython.core.display.Math object>"
      ]
     },
     "metadata": {},
     "output_type": "display_data"
    },
    {
     "name": "stdout",
     "output_type": "stream",
     "text": [
      "\n",
      "Coordinate system choice is cyllindrical (r,theta,z)\n"
     ]
    },
    {
     "data": {
      "text/latex": [
       "$\\displaystyle Jacobian = r$"
      ],
      "text/plain": [
       "<IPython.core.display.Math object>"
      ]
     },
     "metadata": {},
     "output_type": "display_data"
    },
    {
     "data": {
      "text/latex": [
       "$\\displaystyle X-Coordinate = z$"
      ],
      "text/plain": [
       "<IPython.core.display.Math object>"
      ]
     },
     "metadata": {},
     "output_type": "display_data"
    },
    {
     "data": {
      "text/latex": [
       "$\\displaystyle Z-Coordinate = \\theta$"
      ],
      "text/plain": [
       "<IPython.core.display.Math object>"
      ]
     },
     "metadata": {},
     "output_type": "display_data"
    },
    {
     "data": {
      "text/latex": [
       "$\\displaystyle f = \\sin{\\left(z \\right)} \\cos{\\left(\\theta \\right)}$"
      ],
      "text/plain": [
       "<IPython.core.display.Math object>"
      ]
     },
     "metadata": {},
     "output_type": "display_data"
    },
    {
     "data": {
      "text/latex": [
       "$\\displaystyle b = \\frac{A \\left(- r \\sin{\\left(z \\right)} \\cos{\\left(\\theta \\right)} - \\frac{\\sin{\\left(z \\right)} \\cos{\\left(\\theta \\right)}}{r}\\right)}{r} + B \\sin{\\left(z \\right)} \\cos{\\left(\\theta \\right)}$"
      ],
      "text/plain": [
       "<IPython.core.display.Math object>"
      ]
     },
     "metadata": {},
     "output_type": "display_data"
    },
    {
     "name": "stdout",
     "output_type": "stream",
     "text": [
      "\n",
      "Coordinate system choice is spherical (r,theta,phi)\n"
     ]
    },
    {
     "data": {
      "text/latex": [
       "$\\displaystyle Jacobian = r^{2} \\sin{\\left(\\theta \\right)}$"
      ],
      "text/plain": [
       "<IPython.core.display.Math object>"
      ]
     },
     "metadata": {},
     "output_type": "display_data"
    },
    {
     "data": {
      "text/latex": [
       "$\\displaystyle X-Coordinate = r$"
      ],
      "text/plain": [
       "<IPython.core.display.Math object>"
      ]
     },
     "metadata": {},
     "output_type": "display_data"
    },
    {
     "data": {
      "text/latex": [
       "$\\displaystyle Z-Coordinate = \\theta$"
      ],
      "text/plain": [
       "<IPython.core.display.Math object>"
      ]
     },
     "metadata": {},
     "output_type": "display_data"
    },
    {
     "data": {
      "text/latex": [
       "$\\displaystyle f = \\sin{\\left(r \\right)} \\cos{\\left(\\theta \\right)}$"
      ],
      "text/plain": [
       "<IPython.core.display.Math object>"
      ]
     },
     "metadata": {},
     "output_type": "display_data"
    },
    {
     "data": {
      "text/latex": [
       "$\\displaystyle b = \\frac{A \\left(- r^{2} \\sin{\\left(r \\right)} \\sin{\\left(\\theta \\right)} \\cos{\\left(\\theta \\right)} + 2 r \\sin{\\left(\\theta \\right)} \\cos{\\left(r \\right)} \\cos{\\left(\\theta \\right)} - 2 \\sin{\\left(r \\right)} \\sin{\\left(\\theta \\right)} \\cos{\\left(\\theta \\right)}\\right)}{r^{2} \\sin{\\left(\\theta \\right)}} + B \\sin{\\left(r \\right)} \\cos{\\left(\\theta \\right)}$"
      ],
      "text/plain": [
       "<IPython.core.display.Math object>"
      ]
     },
     "metadata": {},
     "output_type": "display_data"
    },
    {
     "name": "stdout",
     "output_type": "stream",
     "text": [
      "\n",
      "Coordinate system choice is spherical (r,theta,phi)\n"
     ]
    },
    {
     "data": {
      "text/latex": [
       "$\\displaystyle Jacobian = r^{2} \\sin{\\left(\\theta \\right)}$"
      ],
      "text/plain": [
       "<IPython.core.display.Math object>"
      ]
     },
     "metadata": {},
     "output_type": "display_data"
    },
    {
     "data": {
      "text/latex": [
       "$\\displaystyle X-Coordinate = r$"
      ],
      "text/plain": [
       "<IPython.core.display.Math object>"
      ]
     },
     "metadata": {},
     "output_type": "display_data"
    },
    {
     "data": {
      "text/latex": [
       "$\\displaystyle Z-Coordinate = \\phi$"
      ],
      "text/plain": [
       "<IPython.core.display.Math object>"
      ]
     },
     "metadata": {},
     "output_type": "display_data"
    },
    {
     "data": {
      "text/latex": [
       "$\\displaystyle f = \\sin{\\left(r \\right)} \\cos{\\left(\\phi \\right)}$"
      ],
      "text/plain": [
       "<IPython.core.display.Math object>"
      ]
     },
     "metadata": {},
     "output_type": "display_data"
    },
    {
     "data": {
      "text/latex": [
       "$\\displaystyle b = \\frac{A \\left(- 2 r^{2} \\sin{\\left(r \\right)} \\sin{\\left(\\theta \\right)} \\cos{\\left(\\phi \\right)} + 2 r \\sin{\\left(\\theta \\right)} \\cos{\\left(\\phi \\right)} \\cos{\\left(r \\right)}\\right)}{r^{2} \\sin{\\left(\\theta \\right)}} + B \\sin{\\left(r \\right)} \\cos{\\left(\\phi \\right)}$"
      ],
      "text/plain": [
       "<IPython.core.display.Math object>"
      ]
     },
     "metadata": {},
     "output_type": "display_data"
    },
    {
     "name": "stdout",
     "output_type": "stream",
     "text": [
      "\n",
      "Coordinate system choice is spherical (r,theta,phi)\n"
     ]
    },
    {
     "data": {
      "text/latex": [
       "$\\displaystyle Jacobian = r^{2} \\sin{\\left(\\theta \\right)}$"
      ],
      "text/plain": [
       "<IPython.core.display.Math object>"
      ]
     },
     "metadata": {},
     "output_type": "display_data"
    },
    {
     "data": {
      "text/latex": [
       "$\\displaystyle X-Coordinate = \\theta$"
      ],
      "text/plain": [
       "<IPython.core.display.Math object>"
      ]
     },
     "metadata": {},
     "output_type": "display_data"
    },
    {
     "data": {
      "text/latex": [
       "$\\displaystyle Z-Coordinate = \\phi$"
      ],
      "text/plain": [
       "<IPython.core.display.Math object>"
      ]
     },
     "metadata": {},
     "output_type": "display_data"
    },
    {
     "data": {
      "text/latex": [
       "$\\displaystyle f = \\sin{\\left(\\theta \\right)} \\cos{\\left(\\phi \\right)}$"
      ],
      "text/plain": [
       "<IPython.core.display.Math object>"
      ]
     },
     "metadata": {},
     "output_type": "display_data"
    },
    {
     "data": {
      "text/latex": [
       "$\\displaystyle b = \\frac{A \\left(- r^{2} \\sin^{2}{\\left(\\theta \\right)} \\cos{\\left(\\phi \\right)} - \\sin^{2}{\\left(\\theta \\right)} \\cos{\\left(\\phi \\right)} + \\cos{\\left(\\phi \\right)} \\cos^{2}{\\left(\\theta \\right)}\\right)}{r^{2} \\sin{\\left(\\theta \\right)}} + B \\sin{\\left(\\theta \\right)} \\cos{\\left(\\phi \\right)}$"
      ],
      "text/plain": [
       "<IPython.core.display.Math object>"
      ]
     },
     "metadata": {},
     "output_type": "display_data"
    },
    {
     "name": "stdout",
     "output_type": "stream",
     "text": [
      "\n",
      "Coordinate system choice is spherical (r,theta,phi)\n"
     ]
    },
    {
     "data": {
      "text/latex": [
       "$\\displaystyle Jacobian = r^{2} \\sin{\\left(\\theta \\right)}$"
      ],
      "text/plain": [
       "<IPython.core.display.Math object>"
      ]
     },
     "metadata": {},
     "output_type": "display_data"
    },
    {
     "data": {
      "text/latex": [
       "$\\displaystyle X-Coordinate = \\theta$"
      ],
      "text/plain": [
       "<IPython.core.display.Math object>"
      ]
     },
     "metadata": {},
     "output_type": "display_data"
    },
    {
     "data": {
      "text/latex": [
       "$\\displaystyle Z-Coordinate = r$"
      ],
      "text/plain": [
       "<IPython.core.display.Math object>"
      ]
     },
     "metadata": {},
     "output_type": "display_data"
    },
    {
     "data": {
      "text/latex": [
       "$\\displaystyle f = \\sin{\\left(\\theta \\right)} \\cos{\\left(r \\right)}$"
      ],
      "text/plain": [
       "<IPython.core.display.Math object>"
      ]
     },
     "metadata": {},
     "output_type": "display_data"
    },
    {
     "data": {
      "text/latex": [
       "$\\displaystyle b = \\frac{A \\left(- r^{2} \\sin^{2}{\\left(\\theta \\right)} \\cos{\\left(r \\right)} - 2 r \\sin{\\left(r \\right)} \\sin^{2}{\\left(\\theta \\right)} - \\sin^{2}{\\left(\\theta \\right)} \\cos{\\left(r \\right)} + \\cos{\\left(r \\right)} \\cos^{2}{\\left(\\theta \\right)}\\right)}{r^{2} \\sin{\\left(\\theta \\right)}} + B \\sin{\\left(\\theta \\right)} \\cos{\\left(r \\right)}$"
      ],
      "text/plain": [
       "<IPython.core.display.Math object>"
      ]
     },
     "metadata": {},
     "output_type": "display_data"
    },
    {
     "name": "stdout",
     "output_type": "stream",
     "text": [
      "\n",
      "Coordinate system choice is spherical (r,theta,phi)\n"
     ]
    },
    {
     "data": {
      "text/latex": [
       "$\\displaystyle Jacobian = r^{2} \\sin{\\left(\\theta \\right)}$"
      ],
      "text/plain": [
       "<IPython.core.display.Math object>"
      ]
     },
     "metadata": {},
     "output_type": "display_data"
    },
    {
     "data": {
      "text/latex": [
       "$\\displaystyle X-Coordinate = \\phi$"
      ],
      "text/plain": [
       "<IPython.core.display.Math object>"
      ]
     },
     "metadata": {},
     "output_type": "display_data"
    },
    {
     "data": {
      "text/latex": [
       "$\\displaystyle Z-Coordinate = r$"
      ],
      "text/plain": [
       "<IPython.core.display.Math object>"
      ]
     },
     "metadata": {},
     "output_type": "display_data"
    },
    {
     "data": {
      "text/latex": [
       "$\\displaystyle f = \\sin{\\left(\\phi \\right)} \\cos{\\left(r \\right)}$"
      ],
      "text/plain": [
       "<IPython.core.display.Math object>"
      ]
     },
     "metadata": {},
     "output_type": "display_data"
    },
    {
     "data": {
      "text/latex": [
       "$\\displaystyle b = \\frac{A \\left(- 2 r^{2} \\sin{\\left(\\phi \\right)} \\sin{\\left(\\theta \\right)} \\cos{\\left(r \\right)} - 2 r \\sin{\\left(\\phi \\right)} \\sin{\\left(r \\right)} \\sin{\\left(\\theta \\right)}\\right)}{r^{2} \\sin{\\left(\\theta \\right)}} + B \\sin{\\left(\\phi \\right)} \\cos{\\left(r \\right)}$"
      ],
      "text/plain": [
       "<IPython.core.display.Math object>"
      ]
     },
     "metadata": {},
     "output_type": "display_data"
    },
    {
     "name": "stdout",
     "output_type": "stream",
     "text": [
      "\n",
      "Coordinate system choice is spherical (r,theta,phi)\n"
     ]
    },
    {
     "data": {
      "text/latex": [
       "$\\displaystyle Jacobian = r^{2} \\sin{\\left(\\theta \\right)}$"
      ],
      "text/plain": [
       "<IPython.core.display.Math object>"
      ]
     },
     "metadata": {},
     "output_type": "display_data"
    },
    {
     "data": {
      "text/latex": [
       "$\\displaystyle X-Coordinate = \\phi$"
      ],
      "text/plain": [
       "<IPython.core.display.Math object>"
      ]
     },
     "metadata": {},
     "output_type": "display_data"
    },
    {
     "data": {
      "text/latex": [
       "$\\displaystyle Z-Coordinate = \\theta$"
      ],
      "text/plain": [
       "<IPython.core.display.Math object>"
      ]
     },
     "metadata": {},
     "output_type": "display_data"
    },
    {
     "data": {
      "text/latex": [
       "$\\displaystyle f = \\sin{\\left(\\phi \\right)} \\cos{\\left(\\theta \\right)}$"
      ],
      "text/plain": [
       "<IPython.core.display.Math object>"
      ]
     },
     "metadata": {},
     "output_type": "display_data"
    },
    {
     "data": {
      "text/latex": [
       "$\\displaystyle b = \\frac{A \\left(- r^{2} \\sin{\\left(\\phi \\right)} \\sin{\\left(\\theta \\right)} \\cos{\\left(\\theta \\right)} - 2 \\sin{\\left(\\phi \\right)} \\sin{\\left(\\theta \\right)} \\cos{\\left(\\theta \\right)}\\right)}{r^{2} \\sin{\\left(\\theta \\right)}} + B \\sin{\\left(\\phi \\right)} \\cos{\\left(\\theta \\right)}$"
      ],
      "text/plain": [
       "<IPython.core.display.Math object>"
      ]
     },
     "metadata": {},
     "output_type": "display_data"
    },
    {
     "name": "stdout",
     "output_type": "stream",
     "text": [
      "\n",
      "Coordinate system choice is toroidal (r,theta,phi)\n"
     ]
    },
    {
     "data": {
      "text/latex": [
       "$\\displaystyle Jacobian = - r \\left(R + r \\cos{\\left(\\theta \\right)}\\right)$"
      ],
      "text/plain": [
       "<IPython.core.display.Math object>"
      ]
     },
     "metadata": {},
     "output_type": "display_data"
    },
    {
     "data": {
      "text/latex": [
       "$\\displaystyle X-Coordinate = r$"
      ],
      "text/plain": [
       "<IPython.core.display.Math object>"
      ]
     },
     "metadata": {},
     "output_type": "display_data"
    },
    {
     "data": {
      "text/latex": [
       "$\\displaystyle Z-Coordinate = \\theta$"
      ],
      "text/plain": [
       "<IPython.core.display.Math object>"
      ]
     },
     "metadata": {},
     "output_type": "display_data"
    },
    {
     "data": {
      "text/latex": [
       "$\\displaystyle f = \\sin{\\left(r \\right)} \\cos{\\left(\\theta \\right)}$"
      ],
      "text/plain": [
       "<IPython.core.display.Math object>"
      ]
     },
     "metadata": {},
     "output_type": "display_data"
    },
    {
     "data": {
      "text/latex": [
       "$\\displaystyle b = - \\frac{A \\left(r \\left(R + r \\cos{\\left(\\theta \\right)}\\right) \\sin{\\left(r \\right)} \\cos{\\left(\\theta \\right)} - r \\cos{\\left(r \\right)} \\cos^{2}{\\left(\\theta \\right)} + \\left(- R - r \\cos{\\left(\\theta \\right)}\\right) \\cos{\\left(r \\right)} \\cos{\\left(\\theta \\right)} - \\sin{\\left(r \\right)} \\sin^{2}{\\left(\\theta \\right)} + \\frac{\\left(R + r \\cos{\\left(\\theta \\right)}\\right) \\sin{\\left(r \\right)} \\cos{\\left(\\theta \\right)}}{r}\\right)}{r \\left(R + r \\cos{\\left(\\theta \\right)}\\right)} + B \\sin{\\left(r \\right)} \\cos{\\left(\\theta \\right)}$"
      ],
      "text/plain": [
       "<IPython.core.display.Math object>"
      ]
     },
     "metadata": {},
     "output_type": "display_data"
    },
    {
     "name": "stdout",
     "output_type": "stream",
     "text": [
      "\n",
      "Coordinate system choice is toroidal (r,theta,phi)\n"
     ]
    },
    {
     "data": {
      "text/latex": [
       "$\\displaystyle Jacobian = - r \\left(R + r \\cos{\\left(\\theta \\right)}\\right)$"
      ],
      "text/plain": [
       "<IPython.core.display.Math object>"
      ]
     },
     "metadata": {},
     "output_type": "display_data"
    },
    {
     "data": {
      "text/latex": [
       "$\\displaystyle X-Coordinate = r$"
      ],
      "text/plain": [
       "<IPython.core.display.Math object>"
      ]
     },
     "metadata": {},
     "output_type": "display_data"
    },
    {
     "data": {
      "text/latex": [
       "$\\displaystyle Z-Coordinate = \\phi$"
      ],
      "text/plain": [
       "<IPython.core.display.Math object>"
      ]
     },
     "metadata": {},
     "output_type": "display_data"
    },
    {
     "data": {
      "text/latex": [
       "$\\displaystyle f = \\sin{\\left(r \\right)} \\cos{\\left(\\phi \\right)}$"
      ],
      "text/plain": [
       "<IPython.core.display.Math object>"
      ]
     },
     "metadata": {},
     "output_type": "display_data"
    },
    {
     "data": {
      "text/latex": [
       "$\\displaystyle b = - \\frac{A \\left(r \\left(R + r \\cos{\\left(\\theta \\right)}\\right) \\sin{\\left(r \\right)} \\cos{\\left(\\phi \\right)} - r \\cos{\\left(\\phi \\right)} \\cos{\\left(r \\right)} \\cos{\\left(\\theta \\right)} + \\frac{r \\sin{\\left(r \\right)} \\cos{\\left(\\phi \\right)}}{R + r \\cos{\\left(\\theta \\right)}} + \\left(- R - r \\cos{\\left(\\theta \\right)}\\right) \\cos{\\left(\\phi \\right)} \\cos{\\left(r \\right)}\\right)}{r \\left(R + r \\cos{\\left(\\theta \\right)}\\right)} + B \\sin{\\left(r \\right)} \\cos{\\left(\\phi \\right)}$"
      ],
      "text/plain": [
       "<IPython.core.display.Math object>"
      ]
     },
     "metadata": {},
     "output_type": "display_data"
    },
    {
     "name": "stdout",
     "output_type": "stream",
     "text": [
      "\n",
      "Coordinate system choice is toroidal (r,theta,phi)\n"
     ]
    },
    {
     "data": {
      "text/latex": [
       "$\\displaystyle Jacobian = - r \\left(R + r \\cos{\\left(\\theta \\right)}\\right)$"
      ],
      "text/plain": [
       "<IPython.core.display.Math object>"
      ]
     },
     "metadata": {},
     "output_type": "display_data"
    },
    {
     "data": {
      "text/latex": [
       "$\\displaystyle X-Coordinate = \\theta$"
      ],
      "text/plain": [
       "<IPython.core.display.Math object>"
      ]
     },
     "metadata": {},
     "output_type": "display_data"
    },
    {
     "data": {
      "text/latex": [
       "$\\displaystyle Z-Coordinate = \\phi$"
      ],
      "text/plain": [
       "<IPython.core.display.Math object>"
      ]
     },
     "metadata": {},
     "output_type": "display_data"
    },
    {
     "data": {
      "text/latex": [
       "$\\displaystyle f = \\sin{\\left(\\theta \\right)} \\cos{\\left(\\phi \\right)}$"
      ],
      "text/plain": [
       "<IPython.core.display.Math object>"
      ]
     },
     "metadata": {},
     "output_type": "display_data"
    },
    {
     "data": {
      "text/latex": [
       "$\\displaystyle b = - \\frac{A \\left(\\frac{r \\sin{\\left(\\theta \\right)} \\cos{\\left(\\phi \\right)}}{R + r \\cos{\\left(\\theta \\right)}} + \\sin{\\left(\\theta \\right)} \\cos{\\left(\\phi \\right)} \\cos{\\left(\\theta \\right)} + \\frac{\\left(R + r \\cos{\\left(\\theta \\right)}\\right) \\sin{\\left(\\theta \\right)} \\cos{\\left(\\phi \\right)}}{r}\\right)}{r \\left(R + r \\cos{\\left(\\theta \\right)}\\right)} + B \\sin{\\left(\\theta \\right)} \\cos{\\left(\\phi \\right)}$"
      ],
      "text/plain": [
       "<IPython.core.display.Math object>"
      ]
     },
     "metadata": {},
     "output_type": "display_data"
    },
    {
     "name": "stdout",
     "output_type": "stream",
     "text": [
      "\n",
      "Coordinate system choice is toroidal (r,theta,phi)\n"
     ]
    },
    {
     "data": {
      "text/latex": [
       "$\\displaystyle Jacobian = - r \\left(R + r \\cos{\\left(\\theta \\right)}\\right)$"
      ],
      "text/plain": [
       "<IPython.core.display.Math object>"
      ]
     },
     "metadata": {},
     "output_type": "display_data"
    },
    {
     "data": {
      "text/latex": [
       "$\\displaystyle X-Coordinate = \\theta$"
      ],
      "text/plain": [
       "<IPython.core.display.Math object>"
      ]
     },
     "metadata": {},
     "output_type": "display_data"
    },
    {
     "data": {
      "text/latex": [
       "$\\displaystyle Z-Coordinate = r$"
      ],
      "text/plain": [
       "<IPython.core.display.Math object>"
      ]
     },
     "metadata": {},
     "output_type": "display_data"
    },
    {
     "data": {
      "text/latex": [
       "$\\displaystyle f = \\sin{\\left(\\theta \\right)} \\cos{\\left(r \\right)}$"
      ],
      "text/plain": [
       "<IPython.core.display.Math object>"
      ]
     },
     "metadata": {},
     "output_type": "display_data"
    },
    {
     "data": {
      "text/latex": [
       "$\\displaystyle b = - \\frac{A \\left(r \\left(R + r \\cos{\\left(\\theta \\right)}\\right) \\sin{\\left(\\theta \\right)} \\cos{\\left(r \\right)} + r \\sin{\\left(r \\right)} \\sin{\\left(\\theta \\right)} \\cos{\\left(\\theta \\right)} + \\left(R + r \\cos{\\left(\\theta \\right)}\\right) \\sin{\\left(r \\right)} \\sin{\\left(\\theta \\right)} + \\sin{\\left(\\theta \\right)} \\cos{\\left(r \\right)} \\cos{\\left(\\theta \\right)} + \\frac{\\left(R + r \\cos{\\left(\\theta \\right)}\\right) \\sin{\\left(\\theta \\right)} \\cos{\\left(r \\right)}}{r}\\right)}{r \\left(R + r \\cos{\\left(\\theta \\right)}\\right)} + B \\sin{\\left(\\theta \\right)} \\cos{\\left(r \\right)}$"
      ],
      "text/plain": [
       "<IPython.core.display.Math object>"
      ]
     },
     "metadata": {},
     "output_type": "display_data"
    },
    {
     "name": "stdout",
     "output_type": "stream",
     "text": [
      "\n",
      "Coordinate system choice is toroidal (r,theta,phi)\n"
     ]
    },
    {
     "data": {
      "text/latex": [
       "$\\displaystyle Jacobian = - r \\left(R + r \\cos{\\left(\\theta \\right)}\\right)$"
      ],
      "text/plain": [
       "<IPython.core.display.Math object>"
      ]
     },
     "metadata": {},
     "output_type": "display_data"
    },
    {
     "data": {
      "text/latex": [
       "$\\displaystyle X-Coordinate = \\phi$"
      ],
      "text/plain": [
       "<IPython.core.display.Math object>"
      ]
     },
     "metadata": {},
     "output_type": "display_data"
    },
    {
     "data": {
      "text/latex": [
       "$\\displaystyle Z-Coordinate = r$"
      ],
      "text/plain": [
       "<IPython.core.display.Math object>"
      ]
     },
     "metadata": {},
     "output_type": "display_data"
    },
    {
     "data": {
      "text/latex": [
       "$\\displaystyle f = \\sin{\\left(\\phi \\right)} \\cos{\\left(r \\right)}$"
      ],
      "text/plain": [
       "<IPython.core.display.Math object>"
      ]
     },
     "metadata": {},
     "output_type": "display_data"
    },
    {
     "data": {
      "text/latex": [
       "$\\displaystyle b = - \\frac{A \\left(r \\left(R + r \\cos{\\left(\\theta \\right)}\\right) \\sin{\\left(\\phi \\right)} \\cos{\\left(r \\right)} + r \\sin{\\left(\\phi \\right)} \\sin{\\left(r \\right)} \\cos{\\left(\\theta \\right)} + \\frac{r \\sin{\\left(\\phi \\right)} \\cos{\\left(r \\right)}}{R + r \\cos{\\left(\\theta \\right)}} + \\left(R + r \\cos{\\left(\\theta \\right)}\\right) \\sin{\\left(\\phi \\right)} \\sin{\\left(r \\right)}\\right)}{r \\left(R + r \\cos{\\left(\\theta \\right)}\\right)} + B \\sin{\\left(\\phi \\right)} \\cos{\\left(r \\right)}$"
      ],
      "text/plain": [
       "<IPython.core.display.Math object>"
      ]
     },
     "metadata": {},
     "output_type": "display_data"
    },
    {
     "name": "stdout",
     "output_type": "stream",
     "text": [
      "\n",
      "Coordinate system choice is toroidal (r,theta,phi)\n"
     ]
    },
    {
     "data": {
      "text/latex": [
       "$\\displaystyle Jacobian = - r \\left(R + r \\cos{\\left(\\theta \\right)}\\right)$"
      ],
      "text/plain": [
       "<IPython.core.display.Math object>"
      ]
     },
     "metadata": {},
     "output_type": "display_data"
    },
    {
     "data": {
      "text/latex": [
       "$\\displaystyle X-Coordinate = \\phi$"
      ],
      "text/plain": [
       "<IPython.core.display.Math object>"
      ]
     },
     "metadata": {},
     "output_type": "display_data"
    },
    {
     "data": {
      "text/latex": [
       "$\\displaystyle Z-Coordinate = \\theta$"
      ],
      "text/plain": [
       "<IPython.core.display.Math object>"
      ]
     },
     "metadata": {},
     "output_type": "display_data"
    },
    {
     "data": {
      "text/latex": [
       "$\\displaystyle f = \\sin{\\left(\\phi \\right)} \\cos{\\left(\\theta \\right)}$"
      ],
      "text/plain": [
       "<IPython.core.display.Math object>"
      ]
     },
     "metadata": {},
     "output_type": "display_data"
    },
    {
     "data": {
      "text/latex": [
       "$\\displaystyle b = - \\frac{A \\left(\\frac{r \\sin{\\left(\\phi \\right)} \\cos{\\left(\\theta \\right)}}{R + r \\cos{\\left(\\theta \\right)}} - \\sin{\\left(\\phi \\right)} \\sin^{2}{\\left(\\theta \\right)} + \\frac{\\left(R + r \\cos{\\left(\\theta \\right)}\\right) \\sin{\\left(\\phi \\right)} \\cos{\\left(\\theta \\right)}}{r}\\right)}{r \\left(R + r \\cos{\\left(\\theta \\right)}\\right)} + B \\sin{\\left(\\phi \\right)} \\cos{\\left(\\theta \\right)}$"
      ],
      "text/plain": [
       "<IPython.core.display.Math object>"
      ]
     },
     "metadata": {},
     "output_type": "display_data"
    },
    {
     "name": "stdout",
     "output_type": "stream",
     "text": [
      "\n"
     ]
    }
   ],
   "source": [
    "#create a function to independently calculate b\n",
    "def calculate_b(A,D,f,J,gxx,gzz,z_coord,x_coord):\n",
    "    b = A/J*(diff(J*gxx*diff(f, x_coord),x_coord)+(diff(J*gzz*diff(f, z_coord),z_coord)))+D*f\n",
    "    return b\n",
    "\n",
    "#for each coordinate system all combinations of units are used i.e 01, 12, 20.\n",
    "#coordinate systems are shown as above\n",
    "#to change the function that is being inputted into the laplacian, you change f which is seen within the for loops\n",
    "\n",
    "#for loop to go through each coordinate system\n",
    "for i in range(0,4):\n",
    "    #for loop for x to go through each unit\n",
    "    for j in range (0,3):\n",
    "        #for loop to ensure that each combination of units is seen i.e 01,12,21,02,10,20\n",
    "        for k in range(0,2):\n",
    "            \n",
    "            #set the coordinate system and coord choice through for loop\n",
    "            coordSystemChoice = i\n",
    "            coordChoiceX = j\n",
    "            \n",
    "            #% is modulus which is the remainder when (j+1) is divided by 3. Y goes 1,2,0.\n",
    "            coordChoiceZ = (j+k+1)%3\n",
    "            \n",
    "            #choose x coordinate unit based on coordinate system and which combination\n",
    "            x_coord = coords[coordSystemChoice][coordChoiceX]\n",
    "            z_coord = coords[coordSystemChoice][coordChoiceZ]\n",
    "            \n",
    "            #assign x and z the units found above to ensure that the function inputted is changed to have those units\n",
    "            x= x_coord\n",
    "            z= z_coord\n",
    "            \n",
    "            #INPUT \n",
    "            #What function for all coordinate systems is being analysed (in terms of x and z i.e. sin(x)*cos(z)) F=__________\n",
    "            f = sin(x)*cos(z)           \n",
    "            \n",
    "            #calculate result of laplacian by calling calculae_b function\n",
    "            b = calculate_b(A,B,f,J[coordSystemChoice],g[coordSystemChoice][coordChoiceX],g[coordSystemChoice][coordChoiceZ],z_coord,x_coord)\n",
    "            \n",
    "            #print out all the values used\n",
    "            print(\"Coordinate system choice is\", C[coordSystemChoice])\n",
    "            display(Math(f'Jacobian = {latex(J[coordSystemChoice])}'))\n",
    "            display(Math(f'X-Coordinate = {latex(x)}'))\n",
    "            display(Math(f'Z-Coordinate = {latex(z)}'))\n",
    "            display(Math(f'f = {latex(f)}'))\n",
    "            display(Math(f'b = {latex(b)}'))\n",
    "            print ()"
   ]
  },
  {
   "cell_type": "markdown",
   "id": "547294b1",
   "metadata": {},
   "source": [
    "Clebsch"
   ]
  },
  {
   "cell_type": "code",
   "execution_count": 19,
   "id": "0f97fbe7",
   "metadata": {
    "scrolled": true
   },
   "outputs": [
    {
     "name": "stdout",
     "output_type": "stream",
     "text": [
      "Coordinate system choice is Clebsch\n",
      "Facts about the system\n"
     ]
    },
    {
     "data": {
      "text/latex": [
       "$\\displaystyle X-Coordinate = x$"
      ],
      "text/plain": [
       "<IPython.core.display.Math object>"
      ]
     },
     "metadata": {},
     "output_type": "display_data"
    },
    {
     "data": {
      "text/latex": [
       "$\\displaystyle Z-Coordinate = z$"
      ],
      "text/plain": [
       "<IPython.core.display.Math object>"
      ]
     },
     "metadata": {},
     "output_type": "display_data"
    },
    {
     "data": {
      "text/latex": [
       "$\\displaystyle Jacobian = \\frac{h_{\\theta}}{B_{pol}} = h_{\\theta} x$"
      ],
      "text/plain": [
       "<IPython.core.display.Math object>"
      ]
     },
     "metadata": {},
     "output_type": "display_data"
    },
    {
     "data": {
      "text/latex": [
       "$\\displaystyle Bpol = \\frac{1}{x}$"
      ],
      "text/plain": [
       "<IPython.core.display.Math object>"
      ]
     },
     "metadata": {},
     "output_type": "display_data"
    },
    {
     "data": {
      "text/latex": [
       "$\\displaystyle Btor = \\frac{1}{R}$"
      ],
      "text/plain": [
       "<IPython.core.display.Math object>"
      ]
     },
     "metadata": {},
     "output_type": "display_data"
    },
    {
     "data": {
      "text/latex": [
       "$\\displaystyle Bxy = \\sqrt{\\frac{1}{x^{2}} + \\frac{1}{R^{2}}}$"
      ],
      "text/plain": [
       "<IPython.core.display.Math object>"
      ]
     },
     "metadata": {},
     "output_type": "display_data"
    },
    {
     "data": {
      "text/latex": [
       "$\\displaystyle gxx = \\frac{R^{2}}{x^{2}}$"
      ],
      "text/plain": [
       "<IPython.core.display.Math object>"
      ]
     },
     "metadata": {},
     "output_type": "display_data"
    },
    {
     "data": {
      "text/latex": [
       "$\\displaystyle gzz = \\frac{I^{2} R^{2}}{x^{2}} + \\frac{x^{2} \\left(\\frac{1}{x^{2}} + \\frac{1}{R^{2}}\\right)}{R^{2}}$"
      ],
      "text/plain": [
       "<IPython.core.display.Math object>"
      ]
     },
     "metadata": {},
     "output_type": "display_data"
    },
    {
     "name": "stdout",
     "output_type": "stream",
     "text": [
      "Inputted function\n"
     ]
    },
    {
     "data": {
      "text/latex": [
       "$\\displaystyle f = z^{2}$"
      ],
      "text/plain": [
       "<IPython.core.display.Math object>"
      ]
     },
     "metadata": {},
     "output_type": "display_data"
    },
    {
     "name": "stdout",
     "output_type": "stream",
     "text": [
      "Result\n"
     ]
    },
    {
     "data": {
      "text/latex": [
       "$\\displaystyle b = z^{2} + 2 \\left(\\frac{I^{2} R^{2}}{x^{2}} + \\frac{x^{2} \\left(\\frac{1}{x^{2}} + \\frac{1}{R^{2}}\\right)}{R^{2}}\\right) \\left(x + y + \\sin{\\left(2 \\pi z \\right)}\\right)$"
      ],
      "text/plain": [
       "<IPython.core.display.Math object>"
      ]
     },
     "metadata": {},
     "output_type": "display_data"
    },
    {
     "name": "stdout",
     "output_type": "stream",
     "text": [
      "result that is copiable to c++ NOTE: change  ** to pow(a,b) to avoid errors in c++\n",
      "z**2 + 2*(I**2*R**2/x**2 + x**2*(x**(-2) + R**(-2))/R**2)*(x + y + sin(2*pi*z))\n",
      "\n"
     ]
    }
   ],
   "source": [
    "#set the coordinate system and coord choice through for loop\n",
    "coordSystemChoice = 4\n",
    "\n",
    "#choose x coordinate unit based on coordinate system and which combination\n",
    "x_coord = coords[coordSystemChoice][0]\n",
    "z_coord = coords[coordSystemChoice][2]\n",
    "            \n",
    "#assign x and z the units found above to ensure that the function inputted is changed to have those units\n",
    "x= x_coord\n",
    "z= z_coord\n",
    "            \n",
    "#INPUT \n",
    "#What function for all coordinate systems is being analysed (in terms of x and z i.e. sin(x)*cos(z)) F=__________\n",
    "f = z**2         \n",
    "        \n",
    "#NEW STUFF\n",
    "#write Jacobian, metric tensors and functions for B and R\n",
    "#start with B functions as then, when the Jacobian and metric tensors are applied, the functions are subbed in.\n",
    "\n",
    "Bpol = 1/x\n",
    "Btor = 1/R\n",
    "Bxy = sqrt(Bpol**2 + Btor**2)\n",
    "JClebsch = h/Bpol\n",
    "clebschMetricTensor = [(R*Bpol)**2, 1/(h)**2,I**2*(R*Bpol)**2+Bxy**2/(R*Bpol)**2]\n",
    "\n",
    "A = x+y+sin(2*pi*z)\n",
    "D = 1\n",
    "        \n",
    "#calculate result of laplacian by calling calculae_b function\n",
    "b = calculate_b(A,D,f,JClebsch,clebschMetricTensor[0],clebschMetricTensor[2],z_coord,x_coord)\n",
    "            \n",
    "#print out all the values used\n",
    "print(\"Coordinate system choice is Clebsch\")\n",
    "print(\"Facts about the system\")\n",
    "display(Math(f'X-Coordinate = {latex(x)}'))\n",
    "display(Math(f'Z-Coordinate = {latex(z)}'))\n",
    "display(Math(f'Jacobian = {latex(J[coordSystemChoice])} = {latex(JClebsch)}'))\n",
    "display(Math(f'Bpol = {latex(Bpol)}'))\n",
    "display(Math(f'Btor = {latex(Btor)}'))\n",
    "display(Math(f'Bxy = {latex(Bxy)}'))\n",
    "display(Math(f'gxx = {latex(clebschMetricTensor[0])}'))\n",
    "display(Math(f'gzz = {latex(clebschMetricTensor[2])}'))\n",
    "print(\"Inputted function\")\n",
    "display(Math(f'f = {latex(f)}'))\n",
    "print(\"Result\")\n",
    "display(Math(f'b = {latex(b)}'))\n",
    "print(\"result that is copiable to c++ NOTE: change  ** to pow(a,b) to avoid errors in c++\")\n",
    "print(b)\n",
    "print ()"
   ]
  },
  {
   "cell_type": "code",
   "execution_count": null,
   "id": "6ebffe33",
   "metadata": {},
   "outputs": [],
   "source": []
  },
  {
   "cell_type": "code",
   "execution_count": null,
   "id": "c6113e6b",
   "metadata": {},
   "outputs": [],
   "source": []
  }
 ],
 "metadata": {
  "kernelspec": {
   "display_name": "Python 3",
   "language": "python",
   "name": "python3"
  },
  "language_info": {
   "codemirror_mode": {
    "name": "ipython",
    "version": 3
   },
   "file_extension": ".py",
   "mimetype": "text/x-python",
   "name": "python",
   "nbconvert_exporter": "python",
   "pygments_lexer": "ipython3",
   "version": "3.8.8"
  }
 },
 "nbformat": 4,
 "nbformat_minor": 5
}
