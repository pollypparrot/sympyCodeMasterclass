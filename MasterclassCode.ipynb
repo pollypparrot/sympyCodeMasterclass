{
 "cells": [
  {
   "cell_type": "markdown",
   "id": "7c961553",
   "metadata": {},
   "source": [
    "Start by importing all libraries needed"
   ]
  },
  {
   "cell_type": "code",
   "execution_count": 10,
   "id": "ec0465d9",
   "metadata": {},
   "outputs": [],
   "source": [
    "# Holly Chandler\n",
    "# Masterclass Research Project\n",
    "# Code to support maths required in the X-Z laplacian for various functions\n",
    "\n",
    "#import all neccesary libraries and allow use of unicode symbols\n",
    "import sympy\n",
    "from sympy import symbols, expand, factor, latex\n",
    "from sympy import *\n",
    "init_printing(use_unicode=True)\n",
    "#import library allowing ext and latex to be on the same line:\n",
    "from IPython.display import display, Math"
   ]
  },
  {
   "cell_type": "code",
   "execution_count": 11,
   "id": "4a65abcc",
   "metadata": {},
   "outputs": [],
   "source": [
    "#set it so you can have pretty outputs for multiple different functions in one cell\n",
    "from IPython.core.interactiveshell import InteractiveShell\n",
    "InteractiveShell.ast_node_interactivity = 'all'"
   ]
  },
  {
   "cell_type": "markdown",
   "id": "fbf1e6f4",
   "metadata": {},
   "source": [
    "Inistialise symbols and create lists containing all required values"
   ]
  },
  {
   "cell_type": "code",
   "execution_count": 29,
   "id": "40a30320",
   "metadata": {},
   "outputs": [],
   "source": [
    "#initialise all the symbols used for each coordinate system\n",
    "alpha, gamma, beta, x, y, z, r, theta, phi, R, A, B, D, h, I, Bpol  = symbols('alpha gamma beta x y z r theta phi R A B D h_theta I B_pol')"
   ]
  },
  {
   "cell_type": "code",
   "execution_count": 13,
   "id": "42e22351",
   "metadata": {
    "scrolled": true
   },
   "outputs": [],
   "source": [
    "#order for all lists of components follows:\n",
    "\n",
    "#0 cartesian (xyz), \n",
    "#1 cyllindrical (r,theta,z), \n",
    "#2 spherical (r,theta,phi), \n",
    "#3 toroidal (r,theta,phi), \n",
    "#4 Clebsch Field Alligned Coordinates (x,y,z)\n",
    "\n",
    "#initialsise coordinate system order:\n",
    "C = [\"cartesian (xyz)\",\"cyllindrical (r,theta,z)\",\"spherical (r,theta,phi)\",\"toroidal (r,theta,phi)\",\"Clebsch Field Alligned Coordinates (x,y,z)\" ]\n",
    "\n",
    "#Initialise all the known Jacobians\n",
    "J = [1, r, r**(2)*sin(theta),-r*(R+r*cos(theta)),h/Bpol]\n",
    "\n",
    "#initialise the main diagonal metric tensors in order g11,g22,g33 where 1,2,3 refer to the coordinate system variables in order as below\n",
    "g = [[1,1,1],[1,1/(r**2),1],[1,1/(r**2),1],[1,1/(r**2),1/(R+r*cos(theta))**2],[(R*Bpol)**2, 1/(h)**2,I**2*(R*Bpol)**2+B**2/(R*Bpol)**2]]\n",
    "\n",
    "#all the coordinate system variables.\n",
    "coords = [[x,y,z],[r,theta,z],[r,theta,phi],[r,theta,phi],[x,y,z]]\n"
   ]
  },
  {
   "cell_type": "markdown",
   "id": "f1a4c13d",
   "metadata": {},
   "source": [
    "Function that calculates b depending on constants, function, metric tensors and jacobian"
   ]
  },
  {
   "cell_type": "code",
   "execution_count": 24,
   "id": "b59e1ded",
   "metadata": {},
   "outputs": [],
   "source": [
    "#create a function to independently calculate b\n",
    "def calculate_b(A,D,f,J,gxx,gzz,z_coord,x_coord):\n",
    "    b = A/J*(diff(J*gxx*diff(f, x_coord),x_coord)+(diff(J*gzz*diff(f, z_coord),z_coord)))+D*f\n",
    "    return b"
   ]
  },
  {
   "cell_type": "markdown",
   "id": "e43ccfa4",
   "metadata": {},
   "source": [
    "Function that calculates the forward laplacian and outputs the results based on coordinate system and variables chosen"
   ]
  },
  {
   "cell_type": "code",
   "execution_count": 27,
   "id": "5a496075",
   "metadata": {},
   "outputs": [],
   "source": [
    "#function finds the symbols of the coordinate system and outputs the result of calculating the forward laplacian\n",
    "\n",
    "def calculateForwardLaplacian(f,coordSystemChoice,xCoordIndex,zCoordIndex):\n",
    "    #choose x coordinate unit based on coordinate system and which combination\n",
    "    x_coord = coords[coordSystemChoice][xCoordIndex]\n",
    "    z_coord = coords[coordSystemChoice][zCoordIndex]\n",
    "            \n",
    "    #assign x and z the units found above to ensure that the function inputted is changed to have those units\n",
    "    x= x_coord\n",
    "    z= z_coord         \n",
    "            \n",
    "    #calculate result of laplacian by calling calculae_b function\n",
    "    b = calculate_b(A,B,f,J[coordSystemChoice],g[coordSystemChoice][coordChoiceX],g[coordSystemChoice][coordChoiceZ],z_coord,x_coord)\n",
    "            \n",
    "    #print out all the values used\n",
    "    print(\"Coordinate system choice is\", C[coordSystemChoice])\n",
    "    display(Math(f'Jacobian = {latex(J[coordSystemChoice])}'))\n",
    "    display(Math(f'X-Coordinate = {latex(x)}'))\n",
    "    display(Math(f'Z-Coordinate = {latex(z)}'))\n",
    "    display(Math(f'f = {latex(f)}'))\n",
    "    display(Math(f'b = {latex(b)}'))\n",
    "    print ()"
   ]
  },
  {
   "cell_type": "markdown",
   "id": "581777b2",
   "metadata": {},
   "source": [
    "Loop that calculates the output of the forward laplacian in all coordinate systems except for Clebsch with all options of general xz for a given function f."
   ]
  },
  {
   "cell_type": "code",
   "execution_count": 30,
   "id": "8a5f98c7",
   "metadata": {},
   "outputs": [],
   "source": [
    "def loopAllCoordinatesAndSystems(f):\n",
    "    #for each coordinate system all combinations of units are used i.e 01, 12, 20.\n",
    "    #coordinate systems are shown as above\n",
    "    #to change the function that is being inputted into the laplacian, you change f which is seen within the for loops\n",
    "\n",
    "    #for loop to go through each coordinate system\n",
    "    for i in range(0,4):\n",
    "        #for loop for x to go through each basis vector\n",
    "        for j in range (0,3):\n",
    "            #for loop to ensure that each combination of basis vectors are seen i.e 01,12,21,02,10,20\n",
    "            for k in range(0,2):\n",
    "            \n",
    "                #set the coordinate system and coord choice through for loop\n",
    "                coordSystemChoice = i\n",
    "                coordChoiceX = j\n",
    "            \n",
    "                #% is modulus which is the remainder when (j+1) is divided by 3. Y goes 1,2,0.\n",
    "                coordChoiceZ = (j+k+1)%3\n",
    "            \n",
    "                #calculate result:\n",
    "                calculateForwardLaplacian(f,coordSystemChoice,coordChoiceX,coordChoiceZ)\n",
    "            "
   ]
  },
  {
   "cell_type": "markdown",
   "id": "547294b1",
   "metadata": {},
   "source": [
    "Function that calculates the Forward Laplacian for a Clebsch coordinate system where the coordinate dependent variables are considered"
   ]
  },
  {
   "cell_type": "code",
   "execution_count": 31,
   "id": "0f97fbe7",
   "metadata": {
    "scrolled": true
   },
   "outputs": [],
   "source": [
    "def clebschCoordinatesForwardLaplacian(f):\n",
    "    #set the coordinate system and coord choice through for loop\n",
    "    coordSystemChoice = 4\n",
    "\n",
    "    #choose x coordinate unit based on coordinate system and which combination\n",
    "    x_coord = coords[coordSystemChoice][0]\n",
    "    z_coord = coords[coordSystemChoice][2]\n",
    "            \n",
    "    #assign x and z the units found above to ensure that the function inputted is changed to have those units\n",
    "    x= x_coord\n",
    "    z= z_coord        \n",
    "        \n",
    "    #NEW STUFF\n",
    "    #write Jacobian, metric tensors and functions for B and R\n",
    "    #start with B functions as then, when the Jacobian and metric tensors are applied, the functions are subbed in.\n",
    "\n",
    "    eps =.1\n",
    "    r = eps*(0.9 +0.1*x)\n",
    "    theta = y-pi\n",
    "    Rxy = 1 + r*cos(theta)\n",
    "    h=r\n",
    "    Bpol = 1/r\n",
    "    Btor = 1/Rxy\n",
    "    Bxy = sqrt(Bpol**2 + Btor**2)\n",
    "    JClebsch = h/Bpol\n",
    "    clebschMetricTensor = [(Rxy*Bpol)**2, 1/(h)**2,I**2*(Rxy*Bpol)**2+Bxy**2/(Rxy*Bpol)**2]\n",
    "\n",
    "    A = x+y+sin(2*pi*z)\n",
    "    D = 1\n",
    "        \n",
    "    #calculate result of laplacian by calling calculae_b function\n",
    "    b = calculate_b(A,D,f,JClebsch,clebschMetricTensor[0],clebschMetricTensor[2],z_coord,x_coord)\n",
    "            \n",
    "    #print out all the values used\n",
    "    print(\"Coordinate system choice is Clebsch\")\n",
    "    print(\"Facts about the system\")\n",
    "    display(Math(f'X-Coordinate = {latex(x)}'))\n",
    "    display(Math(f'Z-Coordinate = {latex(z)}'))\n",
    "    display(Math(f'Jacobian = {latex(J[coordSystemChoice])} = {latex(JClebsch)}'))\n",
    "    display(Math(f'Bpol = {latex(Bpol)}'))\n",
    "    display(Math(f'Btor = {latex(Btor)}'))\n",
    "    display(Math(f'Bxy = {latex(Bxy)}'))\n",
    "    display(Math(f'gxx = {latex(clebschMetricTensor[0])}'))\n",
    "    display(Math(f'gzz = {latex(clebschMetricTensor[2])}'))\n",
    "    print(\"Inputted function\")\n",
    "    display(Math(f'f = {latex(f)}'))\n",
    "    print(\"Result\")\n",
    "    display(Math(f'b = {latex(b)}'))\n",
    "    print(\"result that is copiable to c++ NOTE: change  ** to pow(a,b) to avoid errors in c++\")\n",
    "    print(b)\n",
    "    print ()"
   ]
  },
  {
   "cell_type": "code",
   "execution_count": null,
   "id": "6ebffe33",
   "metadata": {},
   "outputs": [],
   "source": []
  },
  {
   "cell_type": "code",
   "execution_count": null,
   "id": "c6113e6b",
   "metadata": {},
   "outputs": [],
   "source": []
  }
 ],
 "metadata": {
  "kernelspec": {
   "display_name": "Python 3",
   "language": "python",
   "name": "python3"
  },
  "language_info": {
   "codemirror_mode": {
    "name": "ipython",
    "version": 3
   },
   "file_extension": ".py",
   "mimetype": "text/x-python",
   "name": "python",
   "nbconvert_exporter": "python",
   "pygments_lexer": "ipython3",
   "version": "3.8.8"
  }
 },
 "nbformat": 4,
 "nbformat_minor": 5
}
